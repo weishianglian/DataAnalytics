{
 "cells": [
  {
   "cell_type": "code",
   "execution_count": 39,
   "metadata": {},
   "outputs": [],
   "source": [
    "# import python libraries\n",
    "import numpy as np\n",
    "import pandas as pd\n",
    "import folium\n",
    "from folium import plugins\n",
    "from folium.plugins import HeatMap\n",
    "from folium import plugins"
   ]
  },
  {
   "cell_type": "code",
   "execution_count": 40,
   "metadata": {},
   "outputs": [],
   "source": [
    "# load the data\n",
    "data2005_2007 = pd.read_csv('data/accidents_2005_to_2007.csv', na_values=['NULL'], dtype=object)\n",
    "data2009_2011 = pd.read_csv('data/accidents_2009_to_2011.csv', na_values=['NULL'], dtype=object) \n",
    "data2012_2014 = pd.read_csv('data/accidents_2012_to_2014.csv', na_values=['NULL'], dtype=object) \n",
    "dataAADF = pd.read_csv('data/ukTrafficAADF.csv', na_values=['NULL'], dtype=object)"
   ]
  },
  {
   "cell_type": "code",
   "execution_count": 41,
   "metadata": {},
   "outputs": [],
   "source": [
    "# concat data and format datetime\n",
    "data = pd.concat([data2005_2007, data2009_2011, data2012_2014])\n",
    "data['Date'] = pd.to_datetime(data['Date'], format='%d/%m/%Y', errors='coerce')\n",
    "data['Year'] = data['Date'].dt.year\n",
    "data['Month'] = data['Date'].dt.month\n",
    "data['Day'] = data['Date'].dt.day"
   ]
  },
  {
   "cell_type": "code",
   "execution_count": 42,
   "metadata": {},
   "outputs": [],
   "source": [
    "# pickle data to binary file\n",
    "data.to_pickle('data/data_pickle')"
   ]
  },
  {
   "cell_type": "code",
   "execution_count": null,
   "metadata": {},
   "outputs": [],
   "source": [
    "# show a map based on the position of QMUL\n",
    "qmul_map = folium.Map(location=[51.523603, -0.040520], zoom_start = 11)\n",
    "folium.Marker([51.523603, -0.040520], popup='Queen Mary University of London').add_to(qmul_map)\n",
    "qmul_map"
   ]
  },
  {
   "cell_type": "code",
   "execution_count": null,
   "metadata": {},
   "outputs": [],
   "source": [
    "# Ensure you're handing it floats\n",
    "data['Latitude'] = data['Latitude'].astype(float)\n",
    "data['Longitude'] = data['Longitude'].astype(float)\n",
    "\n",
    "# Filter the DF for rows, then columns, then remove NaNs\n",
    "# heat_df = data[data['Speed_limit']=='40'] # Reducing data size so it runs faster\n",
    "# heat_df = heat_df[heat_df['Year']=='2007'] # Reducing data size so it runs faster\n",
    "heat_df = data[['Latitude', 'Longitude']]\n",
    "\n",
    "# Create weight column, using date\n",
    "heat_df['Weight'] = data['Date'].dt.month\n",
    "heat_df['Weight'] = heat_df['Weight'].astype(float)\n",
    "heat_df = heat_df.dropna(axis=0, subset=['Latitude','Longitude', 'Weight'])\n",
    "\n",
    "# List comprehension to make out list of lists\n",
    "heat_data = [[[row['Latitude'], row['Longitude']] for index, row in heat_df[heat_df['Weight'] == i].iterrows()] for i in range(0,13)]\n",
    "\n",
    "# Plot it on the map\n",
    "hm = plugins.HeatMapWithTime(heat_data, auto_play=True, max_opacity=0.8)\n",
    "hm.add_to(qmul_map)\n",
    "\n",
    "# Display the map\n",
    "qmul_map"
   ]
  },
  {
   "cell_type": "code",
   "execution_count": null,
   "metadata": {},
   "outputs": [],
   "source": [
    "map_hooray = folium.Map(location=[51.5074, 0.1278], zoom_start = 13) \n",
    "\n",
    "# Ensure you're handing it floats\n",
    "df_acc['Latitude'] = df_acc['Latitude'].astype(float)\n",
    "df_acc['Longitude'] = df_acc['Longitude'].astype(float)\n",
    "\n",
    "# Filter the DF for rows, then columns, then remove NaNs\n",
    "heat_df = df_acc[df_acc['Speed_limit']=='40'] # Reducing data size so it runs faster\n",
    "heat_df = heat_df[heat_df['Year']=='2007'] # Reducing data size so it runs faster\n",
    "heat_df = heat_df[['Latitude', 'Longitude']]\n",
    "\n",
    "# Create weight column, using date\n",
    "heat_df['Weight'] = df_acc['Date'].str[3:5]\n",
    "heat_df['Weight'] = heat_df['Weight'].astype(float)\n",
    "heat_df = heat_df.dropna(axis=0, subset=['Latitude','Longitude', 'Weight'])\n",
    "\n",
    "# List comprehension to make out list of lists\n",
    "heat_data = [[[row['Latitude'], row['Longitude']] for index, row in heat_df[heat_df['Weight'] == i].iterrows()] for i in range(0, 13)]\n",
    "\n",
    "# Plot it on the map\n",
    "hm = plugins.HeatMapWithTime(heat_data,auto_play=True,max_opacity=0.8)\n",
    "hm.add_to(map_hooray)\n",
    "# Display the map\n",
    "map_hooray"
   ]
  },
  {
   "cell_type": "code",
   "execution_count": null,
   "metadata": {},
   "outputs": [],
   "source": []
  }
 ],
 "metadata": {
  "kernelspec": {
   "display_name": "Python 3",
   "language": "python",
   "name": "python3"
  },
  "language_info": {
   "codemirror_mode": {
    "name": "ipython",
    "version": 3
   },
   "file_extension": ".py",
   "mimetype": "text/x-python",
   "name": "python",
   "nbconvert_exporter": "python",
   "pygments_lexer": "ipython3",
   "version": "3.6.4"
  }
 },
 "nbformat": 4,
 "nbformat_minor": 2
}
